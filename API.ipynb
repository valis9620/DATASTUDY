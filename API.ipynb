{
 "cells": [
  {
   "cell_type": "markdown",
   "metadata": {},
   "source": [
    "1) Создайте новый Jupyter Notebook для написания кода\n",
    "2) Для работы понадобятся библиотеки pandas, requests, json, sqlite3"
   ]
  },
  {
   "cell_type": "code",
   "execution_count": 178,
   "metadata": {},
   "outputs": [],
   "source": [
    "import pandas as pd\n",
    "import requests\n",
    "import json\n",
    "import sqlite3"
   ]
  },
  {
   "cell_type": "markdown",
   "metadata": {},
   "source": [
    "3) На сайте https://open-meteo.com/en/docs сформируйте с помощью\n",
    "настроек сайта запрос API со следующими параметрами:\n",
    "В разделе API Response скопировать получившийся API URL,\n",
    "либо перейти на вкладку Python и скопировать часть кода с url и\n",
    "params"
   ]
  },
  {
   "cell_type": "code",
   "execution_count": 179,
   "metadata": {},
   "outputs": [],
   "source": [
    "# задаем переменные url и params в соответствии с заданными параметрами\n",
    "url = \"https://api.open-meteo.com/v1/forecast\"\n",
    "params = {\n",
    "\t\"latitude\": 55.7522,\n",
    "\t\"longitude\": 37.6156,\n",
    "\t\"daily\": [\"temperature_2m_max\", \"temperature_2m_min\", \"sunrise\", \"sunset\", \"rain_sum\", \"snowfall_sum\"],\n",
    "\t\"timezone\": \"Europe/Moscow\",\n",
    "\t\"start_date\": \"2023-11-01\",\n",
    "\t\"end_date\": \"2023-11-07\"\n",
    "}"
   ]
  },
  {
   "cell_type": "markdown",
   "metadata": {},
   "source": [
    "4) Напишите с помощью библиотеки requests запрос на получение данных\n",
    "с полученными url и params"
   ]
  },
  {
   "cell_type": "code",
   "execution_count": 180,
   "metadata": {},
   "outputs": [],
   "source": [
    "response = requests.get(url, params=params)"
   ]
  },
  {
   "cell_type": "code",
   "execution_count": 181,
   "metadata": {},
   "outputs": [
    {
     "data": {
      "text/plain": [
       "<Response [200]>"
      ]
     },
     "execution_count": 181,
     "metadata": {},
     "output_type": "execute_result"
    }
   ],
   "source": [
    "response"
   ]
  },
  {
   "cell_type": "code",
   "execution_count": 182,
   "metadata": {},
   "outputs": [
    {
     "data": {
      "text/plain": [
       "'{\"latitude\":55.75,\"longitude\":37.625,\"generationtime_ms\":14.485001564025879,\"utc_offset_seconds\":10800,\"timezone\":\"Europe/Moscow\",\"timezone_abbreviation\":\"MSK\",\"elevation\":141.0,\"daily_units\":{\"time\":\"iso8601\",\"temperature_2m_max\":\"°C\",\"temperature_2m_min\":\"°C\",\"sunrise\":\"iso8601\",\"sunset\":\"iso8601\",\"rain_sum\":\"mm\",\"snowfall_sum\":\"cm\"},\"daily\":{\"time\":[\"2023-11-01\",\"2023-11-02\",\"2023-11-03\",\"2023-11-04\",\"2023-11-05\",\"2023-11-06\",\"2023-11-07\"],\"temperature_2m_max\":[15.2,12.2,4.8,5.4,11.9,10.7,9.8],\"temperature_2m_min\":[8.5,2.9,0.8,0.4,6.1,8.9,8.0],\"sunrise\":[\"2023-11-01T07:35\",\"2023-11-02T07:37\",\"2023-11-03T07:39\",\"2023-11-04T07:41\",\"2023-11-05T07:43\",\"2023-11-06T07:45\",\"2023-11-07T07:47\"],\"sunset\":[\"2023-11-01T16:51\",\"2023-11-02T16:49\",\"2023-11-03T16:46\",\"2023-11-04T16:44\",\"2023-11-05T16:42\",\"2023-11-06T16:40\",\"2023-11-07T16:38\"],\"rain_sum\":[0.00,5.00,0.00,0.80,3.90,11.00,1.00],\"snowfall_sum\":[0.00,0.00,0.00,0.00,0.00,0.00,0.00]}}'"
      ]
     },
     "execution_count": 182,
     "metadata": {},
     "output_type": "execute_result"
    }
   ],
   "source": [
    "response.text"
   ]
  },
  {
   "cell_type": "markdown",
   "metadata": {},
   "source": [
    "5) Преобразуйте ответ запроса (response) в формат датафрейма"
   ]
  },
  {
   "cell_type": "code",
   "execution_count": 184,
   "metadata": {},
   "outputs": [],
   "source": [
    "data = json.loads(response.text)"
   ]
  },
  {
   "cell_type": "code",
   "execution_count": 185,
   "metadata": {},
   "outputs": [
    {
     "data": {
      "text/plain": [
       "{'latitude': 55.75,\n",
       " 'longitude': 37.625,\n",
       " 'generationtime_ms': 14.485001564025879,\n",
       " 'utc_offset_seconds': 10800,\n",
       " 'timezone': 'Europe/Moscow',\n",
       " 'timezone_abbreviation': 'MSK',\n",
       " 'elevation': 141.0,\n",
       " 'daily_units': {'time': 'iso8601',\n",
       "  'temperature_2m_max': '°C',\n",
       "  'temperature_2m_min': '°C',\n",
       "  'sunrise': 'iso8601',\n",
       "  'sunset': 'iso8601',\n",
       "  'rain_sum': 'mm',\n",
       "  'snowfall_sum': 'cm'},\n",
       " 'daily': {'time': ['2023-11-01',\n",
       "   '2023-11-02',\n",
       "   '2023-11-03',\n",
       "   '2023-11-04',\n",
       "   '2023-11-05',\n",
       "   '2023-11-06',\n",
       "   '2023-11-07'],\n",
       "  'temperature_2m_max': [15.2, 12.2, 4.8, 5.4, 11.9, 10.7, 9.8],\n",
       "  'temperature_2m_min': [8.5, 2.9, 0.8, 0.4, 6.1, 8.9, 8.0],\n",
       "  'sunrise': ['2023-11-01T07:35',\n",
       "   '2023-11-02T07:37',\n",
       "   '2023-11-03T07:39',\n",
       "   '2023-11-04T07:41',\n",
       "   '2023-11-05T07:43',\n",
       "   '2023-11-06T07:45',\n",
       "   '2023-11-07T07:47'],\n",
       "  'sunset': ['2023-11-01T16:51',\n",
       "   '2023-11-02T16:49',\n",
       "   '2023-11-03T16:46',\n",
       "   '2023-11-04T16:44',\n",
       "   '2023-11-05T16:42',\n",
       "   '2023-11-06T16:40',\n",
       "   '2023-11-07T16:38'],\n",
       "  'rain_sum': [0.0, 5.0, 0.0, 0.8, 3.9, 11.0, 1.0],\n",
       "  'snowfall_sum': [0.0, 0.0, 0.0, 0.0, 0.0, 0.0, 0.0]}}"
      ]
     },
     "execution_count": 185,
     "metadata": {},
     "output_type": "execute_result"
    }
   ],
   "source": [
    "data"
   ]
  },
  {
   "cell_type": "code",
   "execution_count": 186,
   "metadata": {},
   "outputs": [
    {
     "data": {
      "text/plain": [
       "{'time': ['2023-11-01',\n",
       "  '2023-11-02',\n",
       "  '2023-11-03',\n",
       "  '2023-11-04',\n",
       "  '2023-11-05',\n",
       "  '2023-11-06',\n",
       "  '2023-11-07'],\n",
       " 'temperature_2m_max': [15.2, 12.2, 4.8, 5.4, 11.9, 10.7, 9.8],\n",
       " 'temperature_2m_min': [8.5, 2.9, 0.8, 0.4, 6.1, 8.9, 8.0],\n",
       " 'sunrise': ['2023-11-01T07:35',\n",
       "  '2023-11-02T07:37',\n",
       "  '2023-11-03T07:39',\n",
       "  '2023-11-04T07:41',\n",
       "  '2023-11-05T07:43',\n",
       "  '2023-11-06T07:45',\n",
       "  '2023-11-07T07:47'],\n",
       " 'sunset': ['2023-11-01T16:51',\n",
       "  '2023-11-02T16:49',\n",
       "  '2023-11-03T16:46',\n",
       "  '2023-11-04T16:44',\n",
       "  '2023-11-05T16:42',\n",
       "  '2023-11-06T16:40',\n",
       "  '2023-11-07T16:38'],\n",
       " 'rain_sum': [0.0, 5.0, 0.0, 0.8, 3.9, 11.0, 1.0],\n",
       " 'snowfall_sum': [0.0, 0.0, 0.0, 0.0, 0.0, 0.0, 0.0]}"
      ]
     },
     "execution_count": 186,
     "metadata": {},
     "output_type": "execute_result"
    }
   ],
   "source": [
    "data['daily']"
   ]
  },
  {
   "cell_type": "code",
   "execution_count": 202,
   "metadata": {},
   "outputs": [],
   "source": [
    "column_name = list(data['daily'].keys())"
   ]
  },
  {
   "cell_type": "code",
   "execution_count": 203,
   "metadata": {},
   "outputs": [
    {
     "data": {
      "text/plain": [
       "['time',\n",
       " 'temperature_2m_max',\n",
       " 'temperature_2m_min',\n",
       " 'sunrise',\n",
       " 'sunset',\n",
       " 'rain_sum',\n",
       " 'snowfall_sum']"
      ]
     },
     "execution_count": 203,
     "metadata": {},
     "output_type": "execute_result"
    }
   ],
   "source": [
    "column_name"
   ]
  },
  {
   "cell_type": "code",
   "execution_count": 204,
   "metadata": {},
   "outputs": [],
   "source": [
    "df = pd.json_normalize(data['daily'])"
   ]
  },
  {
   "cell_type": "code",
   "execution_count": 205,
   "metadata": {},
   "outputs": [
    {
     "data": {
      "text/html": [
       "<div>\n",
       "<style scoped>\n",
       "    .dataframe tbody tr th:only-of-type {\n",
       "        vertical-align: middle;\n",
       "    }\n",
       "\n",
       "    .dataframe tbody tr th {\n",
       "        vertical-align: top;\n",
       "    }\n",
       "\n",
       "    .dataframe thead th {\n",
       "        text-align: right;\n",
       "    }\n",
       "</style>\n",
       "<table border=\"1\" class=\"dataframe\">\n",
       "  <thead>\n",
       "    <tr style=\"text-align: right;\">\n",
       "      <th></th>\n",
       "      <th>time</th>\n",
       "      <th>temperature_2m_max</th>\n",
       "      <th>temperature_2m_min</th>\n",
       "      <th>sunrise</th>\n",
       "      <th>sunset</th>\n",
       "      <th>rain_sum</th>\n",
       "      <th>snowfall_sum</th>\n",
       "    </tr>\n",
       "  </thead>\n",
       "  <tbody>\n",
       "    <tr>\n",
       "      <th>0</th>\n",
       "      <td>[2023-11-01, 2023-11-02, 2023-11-03, 2023-11-0...</td>\n",
       "      <td>[15.2, 12.2, 4.8, 5.4, 11.9, 10.7, 9.8]</td>\n",
       "      <td>[8.5, 2.9, 0.8, 0.4, 6.1, 8.9, 8.0]</td>\n",
       "      <td>[2023-11-01T07:35, 2023-11-02T07:37, 2023-11-0...</td>\n",
       "      <td>[2023-11-01T16:51, 2023-11-02T16:49, 2023-11-0...</td>\n",
       "      <td>[0.0, 5.0, 0.0, 0.8, 3.9, 11.0, 1.0]</td>\n",
       "      <td>[0.0, 0.0, 0.0, 0.0, 0.0, 0.0, 0.0]</td>\n",
       "    </tr>\n",
       "  </tbody>\n",
       "</table>\n",
       "</div>"
      ],
      "text/plain": [
       "                                                time  \\\n",
       "0  [2023-11-01, 2023-11-02, 2023-11-03, 2023-11-0...   \n",
       "\n",
       "                        temperature_2m_max  \\\n",
       "0  [15.2, 12.2, 4.8, 5.4, 11.9, 10.7, 9.8]   \n",
       "\n",
       "                    temperature_2m_min  \\\n",
       "0  [8.5, 2.9, 0.8, 0.4, 6.1, 8.9, 8.0]   \n",
       "\n",
       "                                             sunrise  \\\n",
       "0  [2023-11-01T07:35, 2023-11-02T07:37, 2023-11-0...   \n",
       "\n",
       "                                              sunset  \\\n",
       "0  [2023-11-01T16:51, 2023-11-02T16:49, 2023-11-0...   \n",
       "\n",
       "                               rain_sum                         snowfall_sum  \n",
       "0  [0.0, 5.0, 0.0, 0.8, 3.9, 11.0, 1.0]  [0.0, 0.0, 0.0, 0.0, 0.0, 0.0, 0.0]  "
      ]
     },
     "execution_count": 205,
     "metadata": {},
     "output_type": "execute_result"
    }
   ],
   "source": [
    "df.head()"
   ]
  },
  {
   "cell_type": "code",
   "execution_count": 191,
   "metadata": {},
   "outputs": [],
   "source": [
    "# необходимо преобразовать столбцы с вложенными списками в строки\n",
    "exploded_df = df.explode(['time',\n",
    " 'temperature_2m_max',\n",
    " 'temperature_2m_min',\n",
    " 'sunrise',\n",
    " 'sunset',\n",
    " 'rain_sum',\n",
    " 'snowfall_sum'], ignore_index = True)"
   ]
  },
  {
   "cell_type": "code",
   "execution_count": 192,
   "metadata": {},
   "outputs": [
    {
     "data": {
      "text/html": [
       "<div>\n",
       "<style scoped>\n",
       "    .dataframe tbody tr th:only-of-type {\n",
       "        vertical-align: middle;\n",
       "    }\n",
       "\n",
       "    .dataframe tbody tr th {\n",
       "        vertical-align: top;\n",
       "    }\n",
       "\n",
       "    .dataframe thead th {\n",
       "        text-align: right;\n",
       "    }\n",
       "</style>\n",
       "<table border=\"1\" class=\"dataframe\">\n",
       "  <thead>\n",
       "    <tr style=\"text-align: right;\">\n",
       "      <th></th>\n",
       "      <th>time</th>\n",
       "      <th>temperature_2m_max</th>\n",
       "      <th>temperature_2m_min</th>\n",
       "      <th>sunrise</th>\n",
       "      <th>sunset</th>\n",
       "      <th>rain_sum</th>\n",
       "      <th>snowfall_sum</th>\n",
       "    </tr>\n",
       "  </thead>\n",
       "  <tbody>\n",
       "    <tr>\n",
       "      <th>0</th>\n",
       "      <td>2023-11-01</td>\n",
       "      <td>15.2</td>\n",
       "      <td>8.5</td>\n",
       "      <td>2023-11-01T07:35</td>\n",
       "      <td>2023-11-01T16:51</td>\n",
       "      <td>0.0</td>\n",
       "      <td>0.0</td>\n",
       "    </tr>\n",
       "    <tr>\n",
       "      <th>1</th>\n",
       "      <td>2023-11-02</td>\n",
       "      <td>12.2</td>\n",
       "      <td>2.9</td>\n",
       "      <td>2023-11-02T07:37</td>\n",
       "      <td>2023-11-02T16:49</td>\n",
       "      <td>5.0</td>\n",
       "      <td>0.0</td>\n",
       "    </tr>\n",
       "    <tr>\n",
       "      <th>2</th>\n",
       "      <td>2023-11-03</td>\n",
       "      <td>4.8</td>\n",
       "      <td>0.8</td>\n",
       "      <td>2023-11-03T07:39</td>\n",
       "      <td>2023-11-03T16:46</td>\n",
       "      <td>0.0</td>\n",
       "      <td>0.0</td>\n",
       "    </tr>\n",
       "    <tr>\n",
       "      <th>3</th>\n",
       "      <td>2023-11-04</td>\n",
       "      <td>5.4</td>\n",
       "      <td>0.4</td>\n",
       "      <td>2023-11-04T07:41</td>\n",
       "      <td>2023-11-04T16:44</td>\n",
       "      <td>0.8</td>\n",
       "      <td>0.0</td>\n",
       "    </tr>\n",
       "    <tr>\n",
       "      <th>4</th>\n",
       "      <td>2023-11-05</td>\n",
       "      <td>11.9</td>\n",
       "      <td>6.1</td>\n",
       "      <td>2023-11-05T07:43</td>\n",
       "      <td>2023-11-05T16:42</td>\n",
       "      <td>3.9</td>\n",
       "      <td>0.0</td>\n",
       "    </tr>\n",
       "    <tr>\n",
       "      <th>5</th>\n",
       "      <td>2023-11-06</td>\n",
       "      <td>10.7</td>\n",
       "      <td>8.9</td>\n",
       "      <td>2023-11-06T07:45</td>\n",
       "      <td>2023-11-06T16:40</td>\n",
       "      <td>11.0</td>\n",
       "      <td>0.0</td>\n",
       "    </tr>\n",
       "    <tr>\n",
       "      <th>6</th>\n",
       "      <td>2023-11-07</td>\n",
       "      <td>9.8</td>\n",
       "      <td>8.0</td>\n",
       "      <td>2023-11-07T07:47</td>\n",
       "      <td>2023-11-07T16:38</td>\n",
       "      <td>1.0</td>\n",
       "      <td>0.0</td>\n",
       "    </tr>\n",
       "  </tbody>\n",
       "</table>\n",
       "</div>"
      ],
      "text/plain": [
       "         time temperature_2m_max temperature_2m_min           sunrise  \\\n",
       "0  2023-11-01               15.2                8.5  2023-11-01T07:35   \n",
       "1  2023-11-02               12.2                2.9  2023-11-02T07:37   \n",
       "2  2023-11-03                4.8                0.8  2023-11-03T07:39   \n",
       "3  2023-11-04                5.4                0.4  2023-11-04T07:41   \n",
       "4  2023-11-05               11.9                6.1  2023-11-05T07:43   \n",
       "5  2023-11-06               10.7                8.9  2023-11-06T07:45   \n",
       "6  2023-11-07                9.8                8.0  2023-11-07T07:47   \n",
       "\n",
       "             sunset rain_sum snowfall_sum  \n",
       "0  2023-11-01T16:51      0.0          0.0  \n",
       "1  2023-11-02T16:49      5.0          0.0  \n",
       "2  2023-11-03T16:46      0.0          0.0  \n",
       "3  2023-11-04T16:44      0.8          0.0  \n",
       "4  2023-11-05T16:42      3.9          0.0  \n",
       "5  2023-11-06T16:40     11.0          0.0  \n",
       "6  2023-11-07T16:38      1.0          0.0  "
      ]
     },
     "execution_count": 192,
     "metadata": {},
     "output_type": "execute_result"
    }
   ],
   "source": [
    "exploded_df"
   ]
  },
  {
   "cell_type": "code",
   "execution_count": 193,
   "metadata": {},
   "outputs": [],
   "source": [
    "#переименуем столбцы\n",
    "exploded_df.rename(columns=\n",
    "{\n",
    "          'time' : 'date',\n",
    "          'temperature_2m_max' : 'temperature_max',\n",
    "          'temperature_2m_min' : 'temperature_min',\n",
    "          'rain_sum' : 'rain',\n",
    "          'snowfall_sum' : 'snowfall'\n",
    "},\n",
    "inplace=True)"
   ]
  },
  {
   "cell_type": "code",
   "execution_count": 194,
   "metadata": {},
   "outputs": [
    {
     "data": {
      "text/html": [
       "<div>\n",
       "<style scoped>\n",
       "    .dataframe tbody tr th:only-of-type {\n",
       "        vertical-align: middle;\n",
       "    }\n",
       "\n",
       "    .dataframe tbody tr th {\n",
       "        vertical-align: top;\n",
       "    }\n",
       "\n",
       "    .dataframe thead th {\n",
       "        text-align: right;\n",
       "    }\n",
       "</style>\n",
       "<table border=\"1\" class=\"dataframe\">\n",
       "  <thead>\n",
       "    <tr style=\"text-align: right;\">\n",
       "      <th></th>\n",
       "      <th>date</th>\n",
       "      <th>temperature_max</th>\n",
       "      <th>temperature_min</th>\n",
       "      <th>sunrise</th>\n",
       "      <th>sunset</th>\n",
       "      <th>rain</th>\n",
       "      <th>snowfall</th>\n",
       "    </tr>\n",
       "  </thead>\n",
       "  <tbody>\n",
       "    <tr>\n",
       "      <th>0</th>\n",
       "      <td>2023-11-01</td>\n",
       "      <td>15.2</td>\n",
       "      <td>8.5</td>\n",
       "      <td>2023-11-01T07:35</td>\n",
       "      <td>2023-11-01T16:51</td>\n",
       "      <td>0.0</td>\n",
       "      <td>0.0</td>\n",
       "    </tr>\n",
       "    <tr>\n",
       "      <th>1</th>\n",
       "      <td>2023-11-02</td>\n",
       "      <td>12.2</td>\n",
       "      <td>2.9</td>\n",
       "      <td>2023-11-02T07:37</td>\n",
       "      <td>2023-11-02T16:49</td>\n",
       "      <td>5.0</td>\n",
       "      <td>0.0</td>\n",
       "    </tr>\n",
       "    <tr>\n",
       "      <th>2</th>\n",
       "      <td>2023-11-03</td>\n",
       "      <td>4.8</td>\n",
       "      <td>0.8</td>\n",
       "      <td>2023-11-03T07:39</td>\n",
       "      <td>2023-11-03T16:46</td>\n",
       "      <td>0.0</td>\n",
       "      <td>0.0</td>\n",
       "    </tr>\n",
       "    <tr>\n",
       "      <th>3</th>\n",
       "      <td>2023-11-04</td>\n",
       "      <td>5.4</td>\n",
       "      <td>0.4</td>\n",
       "      <td>2023-11-04T07:41</td>\n",
       "      <td>2023-11-04T16:44</td>\n",
       "      <td>0.8</td>\n",
       "      <td>0.0</td>\n",
       "    </tr>\n",
       "    <tr>\n",
       "      <th>4</th>\n",
       "      <td>2023-11-05</td>\n",
       "      <td>11.9</td>\n",
       "      <td>6.1</td>\n",
       "      <td>2023-11-05T07:43</td>\n",
       "      <td>2023-11-05T16:42</td>\n",
       "      <td>3.9</td>\n",
       "      <td>0.0</td>\n",
       "    </tr>\n",
       "    <tr>\n",
       "      <th>5</th>\n",
       "      <td>2023-11-06</td>\n",
       "      <td>10.7</td>\n",
       "      <td>8.9</td>\n",
       "      <td>2023-11-06T07:45</td>\n",
       "      <td>2023-11-06T16:40</td>\n",
       "      <td>11.0</td>\n",
       "      <td>0.0</td>\n",
       "    </tr>\n",
       "    <tr>\n",
       "      <th>6</th>\n",
       "      <td>2023-11-07</td>\n",
       "      <td>9.8</td>\n",
       "      <td>8.0</td>\n",
       "      <td>2023-11-07T07:47</td>\n",
       "      <td>2023-11-07T16:38</td>\n",
       "      <td>1.0</td>\n",
       "      <td>0.0</td>\n",
       "    </tr>\n",
       "  </tbody>\n",
       "</table>\n",
       "</div>"
      ],
      "text/plain": [
       "         date temperature_max temperature_min           sunrise  \\\n",
       "0  2023-11-01            15.2             8.5  2023-11-01T07:35   \n",
       "1  2023-11-02            12.2             2.9  2023-11-02T07:37   \n",
       "2  2023-11-03             4.8             0.8  2023-11-03T07:39   \n",
       "3  2023-11-04             5.4             0.4  2023-11-04T07:41   \n",
       "4  2023-11-05            11.9             6.1  2023-11-05T07:43   \n",
       "5  2023-11-06            10.7             8.9  2023-11-06T07:45   \n",
       "6  2023-11-07             9.8             8.0  2023-11-07T07:47   \n",
       "\n",
       "             sunset  rain snowfall  \n",
       "0  2023-11-01T16:51   0.0      0.0  \n",
       "1  2023-11-02T16:49   5.0      0.0  \n",
       "2  2023-11-03T16:46   0.0      0.0  \n",
       "3  2023-11-04T16:44   0.8      0.0  \n",
       "4  2023-11-05T16:42   3.9      0.0  \n",
       "5  2023-11-06T16:40  11.0      0.0  \n",
       "6  2023-11-07T16:38   1.0      0.0  "
      ]
     },
     "execution_count": 194,
     "metadata": {},
     "output_type": "execute_result"
    }
   ],
   "source": [
    "exploded_df"
   ]
  },
  {
   "cell_type": "markdown",
   "metadata": {},
   "source": [
    "6) Добавьте поле location со значением «Moscow»"
   ]
  },
  {
   "cell_type": "code",
   "execution_count": 195,
   "metadata": {},
   "outputs": [],
   "source": [
    "exploded_df.insert (loc= 1 , column='location', value='Moscow')"
   ]
  },
  {
   "cell_type": "code",
   "execution_count": 196,
   "metadata": {},
   "outputs": [
    {
     "data": {
      "text/html": [
       "<div>\n",
       "<style scoped>\n",
       "    .dataframe tbody tr th:only-of-type {\n",
       "        vertical-align: middle;\n",
       "    }\n",
       "\n",
       "    .dataframe tbody tr th {\n",
       "        vertical-align: top;\n",
       "    }\n",
       "\n",
       "    .dataframe thead th {\n",
       "        text-align: right;\n",
       "    }\n",
       "</style>\n",
       "<table border=\"1\" class=\"dataframe\">\n",
       "  <thead>\n",
       "    <tr style=\"text-align: right;\">\n",
       "      <th></th>\n",
       "      <th>date</th>\n",
       "      <th>location</th>\n",
       "      <th>temperature_max</th>\n",
       "      <th>temperature_min</th>\n",
       "      <th>sunrise</th>\n",
       "      <th>sunset</th>\n",
       "      <th>rain</th>\n",
       "      <th>snowfall</th>\n",
       "    </tr>\n",
       "  </thead>\n",
       "  <tbody>\n",
       "    <tr>\n",
       "      <th>0</th>\n",
       "      <td>2023-11-01</td>\n",
       "      <td>Moscow</td>\n",
       "      <td>15.2</td>\n",
       "      <td>8.5</td>\n",
       "      <td>2023-11-01T07:35</td>\n",
       "      <td>2023-11-01T16:51</td>\n",
       "      <td>0.0</td>\n",
       "      <td>0.0</td>\n",
       "    </tr>\n",
       "    <tr>\n",
       "      <th>1</th>\n",
       "      <td>2023-11-02</td>\n",
       "      <td>Moscow</td>\n",
       "      <td>12.2</td>\n",
       "      <td>2.9</td>\n",
       "      <td>2023-11-02T07:37</td>\n",
       "      <td>2023-11-02T16:49</td>\n",
       "      <td>5.0</td>\n",
       "      <td>0.0</td>\n",
       "    </tr>\n",
       "    <tr>\n",
       "      <th>2</th>\n",
       "      <td>2023-11-03</td>\n",
       "      <td>Moscow</td>\n",
       "      <td>4.8</td>\n",
       "      <td>0.8</td>\n",
       "      <td>2023-11-03T07:39</td>\n",
       "      <td>2023-11-03T16:46</td>\n",
       "      <td>0.0</td>\n",
       "      <td>0.0</td>\n",
       "    </tr>\n",
       "    <tr>\n",
       "      <th>3</th>\n",
       "      <td>2023-11-04</td>\n",
       "      <td>Moscow</td>\n",
       "      <td>5.4</td>\n",
       "      <td>0.4</td>\n",
       "      <td>2023-11-04T07:41</td>\n",
       "      <td>2023-11-04T16:44</td>\n",
       "      <td>0.8</td>\n",
       "      <td>0.0</td>\n",
       "    </tr>\n",
       "    <tr>\n",
       "      <th>4</th>\n",
       "      <td>2023-11-05</td>\n",
       "      <td>Moscow</td>\n",
       "      <td>11.9</td>\n",
       "      <td>6.1</td>\n",
       "      <td>2023-11-05T07:43</td>\n",
       "      <td>2023-11-05T16:42</td>\n",
       "      <td>3.9</td>\n",
       "      <td>0.0</td>\n",
       "    </tr>\n",
       "    <tr>\n",
       "      <th>5</th>\n",
       "      <td>2023-11-06</td>\n",
       "      <td>Moscow</td>\n",
       "      <td>10.7</td>\n",
       "      <td>8.9</td>\n",
       "      <td>2023-11-06T07:45</td>\n",
       "      <td>2023-11-06T16:40</td>\n",
       "      <td>11.0</td>\n",
       "      <td>0.0</td>\n",
       "    </tr>\n",
       "    <tr>\n",
       "      <th>6</th>\n",
       "      <td>2023-11-07</td>\n",
       "      <td>Moscow</td>\n",
       "      <td>9.8</td>\n",
       "      <td>8.0</td>\n",
       "      <td>2023-11-07T07:47</td>\n",
       "      <td>2023-11-07T16:38</td>\n",
       "      <td>1.0</td>\n",
       "      <td>0.0</td>\n",
       "    </tr>\n",
       "  </tbody>\n",
       "</table>\n",
       "</div>"
      ],
      "text/plain": [
       "         date location temperature_max temperature_min           sunrise  \\\n",
       "0  2023-11-01   Moscow            15.2             8.5  2023-11-01T07:35   \n",
       "1  2023-11-02   Moscow            12.2             2.9  2023-11-02T07:37   \n",
       "2  2023-11-03   Moscow             4.8             0.8  2023-11-03T07:39   \n",
       "3  2023-11-04   Moscow             5.4             0.4  2023-11-04T07:41   \n",
       "4  2023-11-05   Moscow            11.9             6.1  2023-11-05T07:43   \n",
       "5  2023-11-06   Moscow            10.7             8.9  2023-11-06T07:45   \n",
       "6  2023-11-07   Moscow             9.8             8.0  2023-11-07T07:47   \n",
       "\n",
       "             sunset  rain snowfall  \n",
       "0  2023-11-01T16:51   0.0      0.0  \n",
       "1  2023-11-02T16:49   5.0      0.0  \n",
       "2  2023-11-03T16:46   0.0      0.0  \n",
       "3  2023-11-04T16:44   0.8      0.0  \n",
       "4  2023-11-05T16:42   3.9      0.0  \n",
       "5  2023-11-06T16:40  11.0      0.0  \n",
       "6  2023-11-07T16:38   1.0      0.0  "
      ]
     },
     "execution_count": 196,
     "metadata": {},
     "output_type": "execute_result"
    }
   ],
   "source": [
    "exploded_df"
   ]
  },
  {
   "cell_type": "markdown",
   "metadata": {},
   "source": [
    "7) Подключитесь к существующей базе данных sqlite или создайте новую.\n",
    "Загрузите полученный датафрейм в таблицу с названием weather"
   ]
  },
  {
   "cell_type": "code",
   "execution_count": 197,
   "metadata": {},
   "outputs": [],
   "source": [
    "#создаем новую базу данных sqlite \n",
    "con_sqlite = sqlite3.connect('new_db_weather')"
   ]
  },
  {
   "cell_type": "code",
   "execution_count": 201,
   "metadata": {},
   "outputs": [
    {
     "data": {
      "text/plain": [
       "7"
      ]
     },
     "execution_count": 201,
     "metadata": {},
     "output_type": "execute_result"
    }
   ],
   "source": [
    "#загружаем датафрейм в таблицу weather\n",
    "exploded_df.to_sql(con=con_sqlite, name = 'weather', index=False, if_exists='replace')"
   ]
  },
  {
   "cell_type": "markdown",
   "metadata": {},
   "source": [
    "8) * Подумайте, как можно автоматизировать выполнение написанного кода\n",
    "и изменить его таким образом, чтобы каждый день получать прогноз\n",
    "погоды на текущий день."
   ]
  },
  {
   "cell_type": "code",
   "execution_count": 206,
   "metadata": {},
   "outputs": [],
   "source": [
    "# это все, что я смогла придумать))\n",
    "import pandas as pd\n",
    "import requests\n",
    "import json\n",
    "import sqlite3"
   ]
  },
  {
   "cell_type": "code",
   "execution_count": 207,
   "metadata": {},
   "outputs": [],
   "source": [
    "url = \"https://api.open-meteo.com/v1/forecast\"\n",
    "params = {\n",
    "\t\"latitude\": 55.7522,\n",
    "\t\"longitude\": 37.6156,\n",
    "\t\"daily\": [\"temperature_2m_max\", \"temperature_2m_min\", \"sunrise\", \"sunset\", \"rain_sum\", \"snowfall_sum\"],\n",
    "\t\"timezone\": \"Europe/Moscow\",\n",
    "\t\"forecast_days\": 1\n",
    "}"
   ]
  },
  {
   "cell_type": "code",
   "execution_count": 208,
   "metadata": {},
   "outputs": [],
   "source": [
    "response = requests.get(url, params=params)"
   ]
  },
  {
   "cell_type": "code",
   "execution_count": 209,
   "metadata": {},
   "outputs": [],
   "source": [
    "data = json.loads(response.text)"
   ]
  },
  {
   "cell_type": "code",
   "execution_count": 210,
   "metadata": {},
   "outputs": [],
   "source": [
    "column_name = list(data['daily'].keys())"
   ]
  },
  {
   "cell_type": "code",
   "execution_count": 211,
   "metadata": {},
   "outputs": [],
   "source": [
    "df = pd.json_normalize(data['daily'])"
   ]
  },
  {
   "cell_type": "code",
   "execution_count": 212,
   "metadata": {},
   "outputs": [],
   "source": [
    "exploded_df = df.explode(['time',\n",
    " 'temperature_2m_max',\n",
    " 'temperature_2m_min',\n",
    " 'sunrise',\n",
    " 'sunset',\n",
    " 'rain_sum',\n",
    " 'snowfall_sum'], ignore_index = True)"
   ]
  },
  {
   "cell_type": "code",
   "execution_count": 213,
   "metadata": {},
   "outputs": [],
   "source": [
    "exploded_df.rename(columns=\n",
    "{\n",
    "          'time' : 'date',\n",
    "          'temperature_2m_max' : 'temperature_max',\n",
    "          'temperature_2m_min' : 'temperature_min',\n",
    "          'rain_sum' : 'rain',\n",
    "          'snowfall_sum' : 'snowfall'\n",
    "},\n",
    "inplace=True)"
   ]
  },
  {
   "cell_type": "code",
   "execution_count": 214,
   "metadata": {},
   "outputs": [],
   "source": [
    "exploded_df.insert(loc= 1 , column='location', value='Moscow')"
   ]
  },
  {
   "cell_type": "code",
   "execution_count": 215,
   "metadata": {},
   "outputs": [],
   "source": [
    "con_sqlite = sqlite3.connect('new_db_weather')"
   ]
  },
  {
   "cell_type": "code",
   "execution_count": 216,
   "metadata": {},
   "outputs": [
    {
     "data": {
      "text/plain": [
       "1"
      ]
     },
     "execution_count": 216,
     "metadata": {},
     "output_type": "execute_result"
    }
   ],
   "source": [
    "# но запускать эту цепочку строго 1 раз в день, иначе одни и те же данные будут записываться в таблицу weather в базе данных new_db_weather каждый раз при выполнении кода. Как это решить я не придумала.\n",
    "exploded_df.to_sql(con=con_sqlite, name = 'weather', index=False, if_exists='append')"
   ]
  }
 ],
 "metadata": {
  "kernelspec": {
   "display_name": ".venv",
   "language": "python",
   "name": "python3"
  },
  "language_info": {
   "codemirror_mode": {
    "name": "ipython",
    "version": 3
   },
   "file_extension": ".py",
   "mimetype": "text/x-python",
   "name": "python",
   "nbconvert_exporter": "python",
   "pygments_lexer": "ipython3",
   "version": "3.11.5"
  }
 },
 "nbformat": 4,
 "nbformat_minor": 2
}
